{
 "cells": [
  {
   "cell_type": "markdown",
   "id": "59ade324",
   "metadata": {},
   "source": [
    "# 🔐 Fake Domain & IP Lookup Tool\n",
    "A basic cybersecurity research project to look up domain registration info, IP address, and potential red flags."
   ]
  },
  {
   "cell_type": "code",
   "execution_count": null,
   "id": "82ef0731",
   "metadata": {},
   "outputs": [],
   "source": [
    "# 📦 Install necessary libraries\n",
    "!pip install python-whois ipwhois"
   ]
  },
  {
   "cell_type": "code",
   "execution_count": null,
   "id": "f5500dc8",
   "metadata": {},
   "outputs": [],
   "source": [
    "# 🔍 Domain & IP Lookup Script\n",
    "import whois\n",
    "import socket\n",
    "from ipwhois import IPWhois\n",
    "from datetime import datetime\n",
    "\n",
    "def get_domain_info(domain):\n",
    "    print(f\"\\n🔍 Looking up domain: {domain}\")\n",
    "    try:\n",
    "        w = whois.whois(domain)\n",
    "        print(\"\\n📅 Domain Created On:\", w.creation_date)\n",
    "        print(\"🔒 Registrar:\", w.registrar)\n",
    "        print(\"📬 Emails:\", w.emails)\n",
    "        print(\"🧾 Name Servers:\", w.name_servers)\n",
    "\n",
    "        if isinstance(w.creation_date, list):\n",
    "            creation = w.creation_date[0]\n",
    "        else:\n",
    "            creation = w.creation_date\n",
    "\n",
    "        age = (datetime.now() - creation).days\n",
    "        if age < 180:\n",
    "            print(\"⚠️ Domain is recently created. Might be suspicious.\")\n",
    "    except Exception as e:\n",
    "        print(\"❌ WHOIS lookup failed:\", e)\n",
    "\n",
    "    try:\n",
    "        ip = socket.gethostbyname(domain)\n",
    "        print(\"\\n🌐 IP Address:\", ip)\n",
    "\n",
    "        obj = IPWhois(ip)\n",
    "        res = obj.lookup_rdap()\n",
    "        print(\"🏢 Hosting Org:\", res.get('network', {}).get('name'))\n",
    "        print(\"📍 Country:\", res.get('network', {}).get('country'))\n",
    "    except Exception as e:\n",
    "        print(\"❌ IP lookup failed:\", e)"
   ]
  },
  {
   "cell_type": "code",
   "execution_count": null,
   "id": "f4db9a53",
   "metadata": {},
   "outputs": [],
   "source": [
    "# 🔧 Example Usage\n",
    "get_domain_info(\"example.com\")"
   ]
  },
  {
   "cell_type": "markdown",
   "id": "dcf9a1a8",
   "metadata": {},
   "source": [
    "You can replace `\"example.com\"` with any domain you'd like to inspect."
   ]
  }
 ],
 "metadata": {},
 "nbformat": 4,
 "nbformat_minor": 5
}
